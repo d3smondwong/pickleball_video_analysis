{
 "cells": [
  {
   "cell_type": "code",
   "execution_count": 1,
   "id": "87e792c9",
   "metadata": {},
   "outputs": [
    {
     "name": "stdout",
     "output_type": "stream",
     "text": [
      "PyTorch version: 2.5.1+cu121\n",
      "CUDA available: True\n",
      "Number of GPUs: 1\n",
      "Current GPU: NVIDIA GeForce RTX 4050 Laptop GPU\n",
      "PyTorch CUDA version: 12.1\n"
     ]
    }
   ],
   "source": [
    "import torch\n",
    "print(f\"PyTorch version: {torch.__version__}\")\n",
    "print(f\"CUDA available: {torch.cuda.is_available()}\")\n",
    "if torch.cuda.is_available():\n",
    "    print(f\"Number of GPUs: {torch.cuda.device_count()}\")\n",
    "    print(f\"Current GPU: {torch.cuda.get_device_name(0)}\")\n",
    "    # Check CUDA version detected by PyTorch\n",
    "    print(f\"PyTorch CUDA version: {torch.version.cuda}\")"
   ]
  }
 ],
 "metadata": {
  "kernelspec": {
   "display_name": "pb_analytics",
   "language": "python",
   "name": "python3"
  },
  "language_info": {
   "codemirror_mode": {
    "name": "ipython",
    "version": 3
   },
   "file_extension": ".py",
   "mimetype": "text/x-python",
   "name": "python",
   "nbconvert_exporter": "python",
   "pygments_lexer": "ipython3",
   "version": "3.11.9"
  }
 },
 "nbformat": 4,
 "nbformat_minor": 5
}
